{
 "cells": [
  {
   "cell_type": "markdown",
   "metadata": {},
   "source": [
    "# $0$ $\\to$ drug test       \n",
    "# $1$ $\\to$ drug like test\n",
    "# $2$ $\\to$ non drug test"
   ]
  },
  {
   "cell_type": "code",
   "execution_count": 1,
   "metadata": {},
   "outputs": [],
   "source": [
    "import pandas as pd\n",
    "import numpy as np\n",
    "from sklearn.model_selection import train_test_split\n",
    "\n",
    "from rich.console import Console\n",
    "from rich.table import Table"
   ]
  },
  {
   "cell_type": "code",
   "execution_count": 2,
   "metadata": {},
   "outputs": [],
   "source": [
    "df = pd.read_csv('Data/raw/drug.csv', usecols=[\"smiles\"])\n",
    "pd.DataFrame(pd.unique(df['smiles']),columns = ['1'])['1'].to_csv(r'Data/interim/drug.txt', header=None, index=None, sep='\\n', mode='w')\n",
    "drug = pd.unique(df['smiles'])"
   ]
  },
  {
   "cell_type": "code",
   "execution_count": 3,
   "metadata": {},
   "outputs": [],
   "source": [
    "df = pd.read_csv('Data/raw/drug_like.tsv', delimiter='\\t', usecols=[\"smiles string\"])\n",
    "pd.DataFrame(pd.unique(df['smiles string']),columns = ['1'])['1'].to_csv(r'Data/interim/drug_like.txt', header=None, index=None, sep='\\n', mode='w')\n",
    "drug_like = pd.unique(df['smiles string'])"
   ]
  },
  {
   "cell_type": "code",
   "execution_count": 4,
   "metadata": {},
   "outputs": [],
   "source": [
    "df = pd.read_csv('Data/raw/non_drug.csv', usecols=[\"smiles\"])\n",
    "pd.DataFrame(pd.unique(df['smiles']),columns = ['1'])['1'].to_csv(r'Data/interim/non_drug.txt', header=None, index=None, sep='\\n', mode='w')\n",
    "non_drug = pd.unique(df['smiles'])"
   ]
  },
  {
   "cell_type": "code",
   "execution_count": 5,
   "metadata": {
    "scrolled": true
   },
   "outputs": [],
   "source": [
    "filenames = ['Data/interim/drug.txt', 'Data/interim/drug_like.txt', 'Data/interim/non_drug.txt']\n",
    "  \n",
    "d    = pd.DataFrame(drug)\n",
    "dl   = pd.DataFrame(drug_like)\n",
    "nd   = pd.DataFrame(non_drug)\n",
    "Y_d  = pd.DataFrame([0 for _ in range(len(drug))])\n",
    "Y_dl = pd.DataFrame([1 for _ in range(len(drug_like))])\n",
    "Y_nd = pd.DataFrame([2 for _ in range(len(non_drug))])"
   ]
  },
  {
   "cell_type": "code",
   "execution_count": 6,
   "metadata": {},
   "outputs": [],
   "source": [
    "a1 = pd.concat([d, Y_d], axis=1)\n",
    "a2 = pd.concat([dl, Y_dl], axis=1)\n",
    "a3 = pd.concat([nd, Y_nd], axis=1)\n",
    "final = pd.concat([a1, a2, a3])\n",
    "final.columns = ['smiles', 'label']"
   ]
  },
  {
   "cell_type": "code",
   "execution_count": 7,
   "metadata": {},
   "outputs": [],
   "source": [
    "X_train, X_test, y_train, y_test = train_test_split(\n",
    "    final['smiles'], final['label'], test_size = 0.33,  shuffle = True, random_state = 42)"
   ]
  },
  {
   "cell_type": "code",
   "execution_count": 8,
   "metadata": {},
   "outputs": [],
   "source": [
    "X_train.to_pickle('Data/processed/X_train.pkl')\n",
    "y_train.to_pickle('Data/processed/y_train.pkl')\n",
    "X_test.to_pickle('Data/processed/X_test.pkl')\n",
    "y_test.to_pickle('Data/processed/y_test.pkl')"
   ]
  },
  {
   "cell_type": "code",
   "execution_count": 9,
   "metadata": {},
   "outputs": [
    {
     "data": {
      "text/html": [
       "<pre style=\"white-space:pre;overflow-x:auto;line-height:normal;font-family:Menlo,'DejaVu Sans Mono',consolas,'Courier New',monospace\">┏━━━━━━━┳━━━━━━━━━━━┳━━━━━━━━━━━━━━━━━━━━━━━━━━━━┓\n",
       "┃<span style=\"color: #800080; text-decoration-color: #800080; font-weight: bold\"> Index </span>┃<span style=\"color: #800080; text-decoration-color: #800080; font-weight: bold\"> Dataset   </span>┃<span style=\"color: #800080; text-decoration-color: #800080; font-weight: bold\"> Total No. of Unique SMILES </span>┃\n",
       "┃<span style=\"color: #800080; text-decoration-color: #800080; font-weight: bold\">  No.  </span>┃           ┃                            ┃\n",
       "┡━━━━━━━╇━━━━━━━━━━━╇━━━━━━━━━━━━━━━━━━━━━━━━━━━━┩\n",
       "│<span style=\"color: #7f7f7f; text-decoration-color: #7f7f7f\">   1   </span>│ <span style=\"color: #800000; text-decoration-color: #800000\">Drug</span>      │                       5897 │\n",
       "│<span style=\"color: #7f7f7f; text-decoration-color: #7f7f7f\">   2   </span>│ <span style=\"color: #800000; text-decoration-color: #800000\">Drug-Like</span> │                      29275 │\n",
       "│<span style=\"color: #7f7f7f; text-decoration-color: #7f7f7f\">   3   </span>│ <span style=\"color: #800000; text-decoration-color: #800000\">Non-Drug</span>  │                      15427 │\n",
       "│<span style=\"color: #7f7f7f; text-decoration-color: #7f7f7f\">   4   </span>│ <span style=\"color: #800000; text-decoration-color: #800000\">Total</span>     │                      50599 │\n",
       "└───────┴───────────┴────────────────────────────┘\n",
       "</pre>\n"
      ],
      "text/plain": [
       "┏━━━━━━━┳━━━━━━━━━━━┳━━━━━━━━━━━━━━━━━━━━━━━━━━━━┓\n",
       "┃\u001b[1;35m \u001b[0m\u001b[1;35mIndex\u001b[0m\u001b[1;35m \u001b[0m┃\u001b[1;35m \u001b[0m\u001b[1;35mDataset  \u001b[0m\u001b[1;35m \u001b[0m┃\u001b[1;35m \u001b[0m\u001b[1;35mTotal No. of Unique SMILES\u001b[0m\u001b[1;35m \u001b[0m┃\n",
       "┃\u001b[1;35m \u001b[0m\u001b[1;35m No. \u001b[0m\u001b[1;35m \u001b[0m┃           ┃                            ┃\n",
       "┡━━━━━━━╇━━━━━━━━━━━╇━━━━━━━━━━━━━━━━━━━━━━━━━━━━┩\n",
       "│\u001b[2m \u001b[0m\u001b[2m  1  \u001b[0m\u001b[2m \u001b[0m│ \u001b[31mDrug\u001b[0m      │                       5897 │\n",
       "│\u001b[2m \u001b[0m\u001b[2m  2  \u001b[0m\u001b[2m \u001b[0m│ \u001b[31mDrug-Like\u001b[0m │                      29275 │\n",
       "│\u001b[2m \u001b[0m\u001b[2m  3  \u001b[0m\u001b[2m \u001b[0m│ \u001b[31mNon-Drug\u001b[0m  │                      15427 │\n",
       "│\u001b[2m \u001b[0m\u001b[2m  4  \u001b[0m\u001b[2m \u001b[0m│ \u001b[31mTotal\u001b[0m     │                      50599 │\n",
       "└───────┴───────────┴────────────────────────────┘\n"
      ]
     },
     "metadata": {},
     "output_type": "display_data"
    }
   ],
   "source": [
    "console = Console()\n",
    "table = Table(show_header=True, header_style=\"bold magenta\")\n",
    "table.add_column(\"Index No.\", style=\"dim\", justify=\"center\", width=5)\n",
    "table.add_column(\"Dataset\")\n",
    "table.add_column(\"Total No. of Unique SMILES\", justify=\"right\")\n",
    "\n",
    "table.add_row(\n",
    "    \"1\", \n",
    "    \"[red]Drug[/red]\", \n",
    "    f\"{len(drug)}\", \n",
    ")\n",
    "table.add_row(\n",
    "    \"2\",\n",
    "    \"[red]Drug-Like[/red]\",\n",
    "    f\"{len(drug_like)}\",\n",
    ")\n",
    "table.add_row(\n",
    "    \"3\",\n",
    "    \"[red]Non-Drug[/red]\",\n",
    "    f\"{len(non_drug)}\",\n",
    ")\n",
    "table.add_row(\n",
    "    \"4\",\n",
    "    \"[red]Total[/red]\",\n",
    "    f\"{len(non_drug)+len(drug_like)+len(drug)}\",\n",
    ")\n",
    "console.print(table)"
   ]
  },
  {
   "cell_type": "code",
   "execution_count": 10,
   "metadata": {},
   "outputs": [
    {
     "data": {
      "text/html": [
       "<pre style=\"white-space:pre;overflow-x:auto;line-height:normal;font-family:Menlo,'DejaVu Sans Mono',consolas,'Courier New',monospace\">┏━━━━━━━━━━━┳━━━━━━━┳━━━━━━━━━━━┳━━━━━━━━━━┳━━━━━━━━━━━━━━━━┓\n",
       "┃<span style=\"color: #800080; text-decoration-color: #800080; font-weight: bold\">           </span>┃<span style=\"color: #800080; text-decoration-color: #800080; font-weight: bold\"> Total </span>┃<span style=\"color: #800080; text-decoration-color: #800080; font-weight: bold\"> Train Set </span>┃<span style=\"color: #800080; text-decoration-color: #800080; font-weight: bold\"> Test Set </span>┃<span style=\"color: #800080; text-decoration-color: #800080; font-weight: bold\"> Validation Set </span>┃\n",
       "┡━━━━━━━━━━━╇━━━━━━━╇━━━━━━━━━━━╇━━━━━━━━━━╇━━━━━━━━━━━━━━━━┩\n",
       "│ <span style=\"color: #800000; text-decoration-color: #800000\">Drug</span>      │ 5897  │ 3898      │ 1999     │ 0              │\n",
       "│ <span style=\"color: #800000; text-decoration-color: #800000\">Drug-Like</span> │ 29275 │ 19599     │ 9676     │ 0              │\n",
       "│ <span style=\"color: #800000; text-decoration-color: #800000\">Non-Drug</span>  │ 15427 │ 10404     │ 5023     │ 0              │\n",
       "│ <span style=\"color: #800000; text-decoration-color: #800000\">Total</span>     │ 50599 │ 33901     │ 16698    │ 0              │\n",
       "└───────────┴───────┴───────────┴──────────┴────────────────┘\n",
       "</pre>\n"
      ],
      "text/plain": [
       "┏━━━━━━━━━━━┳━━━━━━━┳━━━━━━━━━━━┳━━━━━━━━━━┳━━━━━━━━━━━━━━━━┓\n",
       "┃\u001b[1;35m \u001b[0m\u001b[1;35m         \u001b[0m\u001b[1;35m \u001b[0m┃\u001b[1;35m \u001b[0m\u001b[1;35mTotal\u001b[0m\u001b[1;35m \u001b[0m┃\u001b[1;35m \u001b[0m\u001b[1;35mTrain Set\u001b[0m\u001b[1;35m \u001b[0m┃\u001b[1;35m \u001b[0m\u001b[1;35mTest Set\u001b[0m\u001b[1;35m \u001b[0m┃\u001b[1;35m \u001b[0m\u001b[1;35mValidation Set\u001b[0m\u001b[1;35m \u001b[0m┃\n",
       "┡━━━━━━━━━━━╇━━━━━━━╇━━━━━━━━━━━╇━━━━━━━━━━╇━━━━━━━━━━━━━━━━┩\n",
       "│ \u001b[31mDrug\u001b[0m      │ 5897  │ 3898      │ 1999     │ 0              │\n",
       "│ \u001b[31mDrug-Like\u001b[0m │ 29275 │ 19599     │ 9676     │ 0              │\n",
       "│ \u001b[31mNon-Drug\u001b[0m  │ 15427 │ 10404     │ 5023     │ 0              │\n",
       "│ \u001b[31mTotal\u001b[0m     │ 50599 │ 33901     │ 16698    │ 0              │\n",
       "└───────────┴───────┴───────────┴──────────┴────────────────┘\n"
      ]
     },
     "metadata": {},
     "output_type": "display_data"
    }
   ],
   "source": [
    "console = Console()\n",
    "table = Table(show_header=True, header_style=\"bold magenta\")\n",
    "table.add_column(\"\")\n",
    "table.add_column(\"Total\")\n",
    "table.add_column(\"Train Set\")\n",
    "table.add_column(\"Test Set\")\n",
    "table.add_column(\"Validation Set\")\n",
    "\n",
    "\n",
    "table.add_row(\n",
    "    \"[red]Drug[/red]\", \n",
    "    f\"{len(drug)}\", \n",
    "    f\"{len(y_train[y_train == 0])}\",\n",
    "    f\"{len(y_test[y_test == 0])}\",\n",
    "    \"0\"\n",
    ")\n",
    "table.add_row(\n",
    "    \"[red]Drug-Like[/red]\",\n",
    "    f\"{len(drug_like)}\",\n",
    "    f\"{len(y_train[y_train == 1])}\",\n",
    "    f\"{len(y_test[y_test == 1])}\",\n",
    "    \"0\"\n",
    ")\n",
    "table.add_row(\n",
    "    \"[red]Non-Drug[/red]\",\n",
    "    f\"{len(non_drug)}\",\n",
    "    f\"{len(y_train[y_train == 2])}\",\n",
    "    f\"{len(y_test[y_test == 2])}\",\n",
    "    \"0\"\n",
    ")\n",
    "table.add_row(\n",
    "    \"[red]Total[/red]\",\n",
    "    f\"{len(non_drug)+len(drug_like)+len(drug)}\",\n",
    "    f\"{len(y_train)}\",\n",
    "    f\"{len(y_test)}\",\n",
    "    \"0\"\n",
    ")\n",
    "console.print(table)"
   ]
  },
  {
   "cell_type": "code",
   "execution_count": 11,
   "metadata": {},
   "outputs": [
    {
     "name": "stdout",
     "output_type": "stream",
     "text": [
      "\u001b[01;34m.\u001b[00m\r\n",
      "├── \u001b[01;34mData\u001b[00m\r\n",
      "│   ├── \u001b[01;34minterim\u001b[00m\r\n",
      "│   │   ├── drug.txt\r\n",
      "│   │   ├── drug_like.txt\r\n",
      "│   │   └── non_drug.txt\r\n",
      "│   ├── \u001b[01;34mprocessed\u001b[00m\r\n",
      "│   │   ├── X_test.pkl\r\n",
      "│   │   ├── X_train.pkl\r\n",
      "│   │   ├── y_test.pkl\r\n",
      "│   │   └── y_train.pkl\r\n",
      "│   └── \u001b[01;34mraw\u001b[00m\r\n",
      "│       ├── drug.csv\r\n",
      "│       ├── drug_like.tsv\r\n",
      "│       └── non_drug.csv\r\n",
      "├── Data.ipynb\r\n",
      "├── data.py\r\n",
      "└── data.sh\r\n",
      "\r\n",
      "4 directories, 13 files\r\n"
     ]
    }
   ],
   "source": [
    "!tree"
   ]
  }
 ],
 "metadata": {
  "kernelspec": {
   "display_name": "Python 3",
   "language": "python",
   "name": "python3"
  },
  "language_info": {
   "codemirror_mode": {
    "name": "ipython",
    "version": 3
   },
   "file_extension": ".py",
   "mimetype": "text/x-python",
   "name": "python",
   "nbconvert_exporter": "python",
   "pygments_lexer": "ipython3",
   "version": "3.9.1"
  }
 },
 "nbformat": 4,
 "nbformat_minor": 4
}
