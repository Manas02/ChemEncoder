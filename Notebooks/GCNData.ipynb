{
 "cells": [
  {
   "cell_type": "markdown",
   "metadata": {},
   "source": [
    "# This files prepares data for `GCN` by creating `data.cites` & `data.content`  files from `.txt` data files.\n",
    "\n",
    "## Author : Manas Mahale <<manas.mahale@bcp.edu.in>>"
   ]
  },
  {
   "cell_type": "markdown",
   "metadata": {},
   "source": [
    "- [x] Enumerate `SMILES`.\n",
    "- [x] Create `Vocab`.\n",
    "- [x] Create `.content` file.\n",
    "- [x] Create `.cites` file with `n` clustered references."
   ]
  },
  {
   "cell_type": "code",
   "execution_count": 1,
   "metadata": {},
   "outputs": [],
   "source": [
    "%config Completer.use_jedi = False"
   ]
  },
  {
   "cell_type": "code",
   "execution_count": 2,
   "metadata": {},
   "outputs": [],
   "source": [
    "import numpy as np\n",
    "np.random.seed = 42\n",
    "import random\n",
    "random.seed = 42\n",
    "import pandas as pd"
   ]
  },
  {
   "cell_type": "code",
   "execution_count": 3,
   "metadata": {},
   "outputs": [],
   "source": [
    "drug      = pd.read_csv('./data/drug/drug.txt', header=None)\n",
    "non_drug  = pd.read_csv('./data/drug/non_drug.txt', header=None)\n",
    "drug_like = pd.read_csv('./data/drug/drug_like.txt', header=None)"
   ]
  },
  {
   "cell_type": "code",
   "execution_count": 4,
   "metadata": {},
   "outputs": [],
   "source": [
    "drug['label']      = 'drug'\n",
    "drug_like['label'] = 'drug_like'\n",
    "non_drug['label']  = 'non_drug'"
   ]
  },
  {
   "cell_type": "code",
   "execution_count": 5,
   "metadata": {},
   "outputs": [
    {
     "data": {
      "text/html": [
       "<div>\n",
       "<style scoped>\n",
       "    .dataframe tbody tr th:only-of-type {\n",
       "        vertical-align: middle;\n",
       "    }\n",
       "\n",
       "    .dataframe tbody tr th {\n",
       "        vertical-align: top;\n",
       "    }\n",
       "\n",
       "    .dataframe thead th {\n",
       "        text-align: right;\n",
       "    }\n",
       "</style>\n",
       "<table border=\"1\" class=\"dataframe\">\n",
       "  <thead>\n",
       "    <tr style=\"text-align: right;\">\n",
       "      <th></th>\n",
       "      <th>smiles</th>\n",
       "      <th>label</th>\n",
       "    </tr>\n",
       "    <tr>\n",
       "      <th>id</th>\n",
       "      <th></th>\n",
       "      <th></th>\n",
       "    </tr>\n",
       "  </thead>\n",
       "  <tbody>\n",
       "    <tr>\n",
       "      <th>0</th>\n",
       "      <td>N[C@@H](CSSC[C@H](N)C(=O)O)C(=O)O</td>\n",
       "      <td>drug</td>\n",
       "    </tr>\n",
       "    <tr>\n",
       "      <th>1</th>\n",
       "      <td>O=C(O)c1cc(O)nc(O)n1</td>\n",
       "      <td>drug</td>\n",
       "    </tr>\n",
       "    <tr>\n",
       "      <th>2</th>\n",
       "      <td>NC(=O)CCCC[C@H]1CCSS1</td>\n",
       "      <td>drug</td>\n",
       "    </tr>\n",
       "    <tr>\n",
       "      <th>3</th>\n",
       "      <td>CCCCC[C@](C)(O)/C=C/[C@H]1[C@H](O)C[C@H](O)[C@...</td>\n",
       "      <td>drug</td>\n",
       "    </tr>\n",
       "    <tr>\n",
       "      <th>4</th>\n",
       "      <td>Cn1nnnc1SCC1=C(C(=O)O)N2C(=O)[C@@H](NC(=O)[C@H...</td>\n",
       "      <td>drug</td>\n",
       "    </tr>\n",
       "    <tr>\n",
       "      <th>...</th>\n",
       "      <td>...</td>\n",
       "      <td>...</td>\n",
       "    </tr>\n",
       "    <tr>\n",
       "      <th>2995</th>\n",
       "      <td>Cc1ccc(NCc2cc3cc4c(cc3n(CC(=O)Nc3ccc(F)cc3F)c2...</td>\n",
       "      <td>non_drug</td>\n",
       "    </tr>\n",
       "    <tr>\n",
       "      <th>2996</th>\n",
       "      <td>O=C(Nc1ncc2c(n1)-c1ccccc1OC2)c1ccc(Cl)cc1Cl</td>\n",
       "      <td>non_drug</td>\n",
       "    </tr>\n",
       "    <tr>\n",
       "      <th>2997</th>\n",
       "      <td>O=C1CCCN1CCCNc1ncnc2c1[nH]c1ccccc12</td>\n",
       "      <td>non_drug</td>\n",
       "    </tr>\n",
       "    <tr>\n",
       "      <th>2998</th>\n",
       "      <td>CCN(CC)CCCNC(=O)CSc1nc(-c2ccc(OC)cc2)cc(C(F)(F...</td>\n",
       "      <td>non_drug</td>\n",
       "    </tr>\n",
       "    <tr>\n",
       "      <th>2999</th>\n",
       "      <td>C[C@H]1Cc2nc(SCC(=O)Nc3ccc4c(c3)OCO4)n(CCc3ccc...</td>\n",
       "      <td>non_drug</td>\n",
       "    </tr>\n",
       "  </tbody>\n",
       "</table>\n",
       "<p>3000 rows × 2 columns</p>\n",
       "</div>"
      ],
      "text/plain": [
       "                                                 smiles     label\n",
       "id                                                               \n",
       "0                     N[C@@H](CSSC[C@H](N)C(=O)O)C(=O)O      drug\n",
       "1                                  O=C(O)c1cc(O)nc(O)n1      drug\n",
       "2                                 NC(=O)CCCC[C@H]1CCSS1      drug\n",
       "3     CCCCC[C@](C)(O)/C=C/[C@H]1[C@H](O)C[C@H](O)[C@...      drug\n",
       "4     Cn1nnnc1SCC1=C(C(=O)O)N2C(=O)[C@@H](NC(=O)[C@H...      drug\n",
       "...                                                 ...       ...\n",
       "2995  Cc1ccc(NCc2cc3cc4c(cc3n(CC(=O)Nc3ccc(F)cc3F)c2...  non_drug\n",
       "2996        O=C(Nc1ncc2c(n1)-c1ccccc1OC2)c1ccc(Cl)cc1Cl  non_drug\n",
       "2997                O=C1CCCN1CCCNc1ncnc2c1[nH]c1ccccc12  non_drug\n",
       "2998  CCN(CC)CCCNC(=O)CSc1nc(-c2ccc(OC)cc2)cc(C(F)(F...  non_drug\n",
       "2999  C[C@H]1Cc2nc(SCC(=O)Nc3ccc4c(c3)OCO4)n(CCc3ccc...  non_drug\n",
       "\n",
       "[3000 rows x 2 columns]"
      ]
     },
     "execution_count": 5,
     "metadata": {},
     "output_type": "execute_result"
    }
   ],
   "source": [
    "frames = [drug, drug_like, non_drug]\n",
    "result = pd.concat(frames)\n",
    "result['id'] = range(len(non_drug) + len(drug) + len(drug_like))\n",
    "result.columns = ['smiles', 'label', 'id']\n",
    "result.set_index('id')"
   ]
  },
  {
   "cell_type": "code",
   "execution_count": 6,
   "metadata": {},
   "outputs": [],
   "source": [
    "smiles = result['smiles'].values"
   ]
  },
  {
   "cell_type": "code",
   "execution_count": 7,
   "metadata": {},
   "outputs": [
    {
     "name": "stdout",
     "output_type": "stream",
     "text": [
      "Vocab length :  34\n"
     ]
    }
   ],
   "source": [
    "a = [list(set(i)) for i in smiles]\n",
    "vocab = list(set(np.concatenate(a)))\n",
    "print(\"Vocab length : \", str(len(vocab)))"
   ]
  },
  {
   "cell_type": "code",
   "execution_count": 8,
   "metadata": {},
   "outputs": [],
   "source": [
    "l     = result['label'].values\n",
    "index = result['id'].values "
   ]
  },
  {
   "cell_type": "code",
   "execution_count": 9,
   "metadata": {
    "scrolled": true
   },
   "outputs": [],
   "source": [
    "with open('./data/drug/data.content', 'w') as f:\n",
    "    for n, i in enumerate(smiles) :\n",
    "        f.write(str(n+1) + '\\t')\n",
    "        for j in vocab :\n",
    "            if j in i :\n",
    "                f.write('1\\t')\n",
    "            else:\n",
    "                f.write('0\\t')\n",
    "        f.write(l[n] + '\\n')"
   ]
  },
  {
   "cell_type": "code",
   "execution_count": 10,
   "metadata": {},
   "outputs": [],
   "source": [
    "labels = result['label'].unique()"
   ]
  },
  {
   "cell_type": "code",
   "execution_count": 11,
   "metadata": {},
   "outputs": [],
   "source": [
    "drug      = result[result['label'] == 'drug']['id'].values\n",
    "drug_like = result[result['label'] == 'drug_like']['id'].values\n",
    "non_drug  = result[result['label'] == 'non_drug']['id'].values"
   ]
  },
  {
   "cell_type": "code",
   "execution_count": 12,
   "metadata": {},
   "outputs": [],
   "source": [
    "def pick(filename, data, n):\n",
    "    with open(filename, 'w') as f:\n",
    "        for j in data:\n",
    "            for i in result[result['label'] == j]['id'].values:\n",
    "                for _ in range(n):\n",
    "                    f.write(str(i) + '\\t' + str(result[result['label'] == j]['id'].values[random.randint(0, len(result[result['label'] == j]['id'].values)-1)]) + '\\n')"
   ]
  },
  {
   "cell_type": "code",
   "execution_count": 13,
   "metadata": {
    "scrolled": true
   },
   "outputs": [],
   "source": [
    "pick('./data/drug/data.cites', labels, 5)"
   ]
  },
  {
   "cell_type": "code",
   "execution_count": 14,
   "metadata": {},
   "outputs": [],
   "source": [
    "a = pd.read_csv('./data/drug/data.cites', sep='\\t' , header=None)\n",
    "df = a.reindex(np.random.permutation(a.index))\n",
    "df.set_index(0).to_csv('./data/drug/data.cites', sep='\\t', header=None)"
   ]
  }
 ],
 "metadata": {
  "kernelspec": {
   "display_name": "Python 3",
   "language": "python",
   "name": "python3"
  },
  "language_info": {
   "codemirror_mode": {
    "name": "ipython",
    "version": 3
   },
   "file_extension": ".py",
   "mimetype": "text/x-python",
   "name": "python",
   "nbconvert_exporter": "python",
   "pygments_lexer": "ipython3",
   "version": "3.9.1"
  }
 },
 "nbformat": 4,
 "nbformat_minor": 4
}
